{
  "metadata": {
    "kernelspec": {
      "name": "python",
      "display_name": "Python (Pyodide)",
      "language": "python"
    },
    "language_info": {
      "codemirror_mode": {
        "name": "python",
        "version": 3
      },
      "file_extension": ".py",
      "mimetype": "text/x-python",
      "name": "python",
      "nbconvert_exporter": "python",
      "pygments_lexer": "ipython3",
      "version": "3.8"
    }
  },
  "nbformat_minor": 4,
  "nbformat": 4,
  "cells": [
    {
      "cell_type": "markdown",
      "source": "## Dekompozicija matrice kamere na unutrasnju i spoljasnju matricu",
      "metadata": {}
    },
    {
      "cell_type": "markdown",
      "source": "### Zadatak 1 - Nadji koordinate centra kamere",
      "metadata": {}
    },
    {
      "cell_type": "markdown",
      "source": "Napisati Python 3 funkciju centar(T)  koja za datu 3x4 matricu kamere T,  tipa np.array, vraća homogene koordinate centra kamere (sa 1 na poslednjoj koordinati), 4-vektor, tipa np.array.\n\n\nulaz je tipa np.array. Izlaz je tipa np.array, u formatu, recimo C = np.array([2,-1,4,1])\nkod  np.set_printoptions(precision=5, suppress=True)  ostaviti uključen kako bi izlaz bio formatiran na pravi način. \nKao i ranije: da biste izbegli -0.  izlaz možete koristiti kod  C = np.where(np.isclose(C, 0) , 0.0 , C)\nUnutar jednog pokušaja za prvu grešku gubite 0%, za drugu 0%, za treću 20%...",
      "metadata": {}
    },
    {
      "cell_type": "code",
      "source": "import numpy as np\nfrom numpy import linalg\nimport math\nnp.set_printoptions(precision=5, suppress=True) \n \n # ovde pišete pomocne funkcije\n \ndef centar(T):\n \n # vaš kod\n    C1 = np.linalg.det(np.delete(T, 0, 1))\n    C2 = np.linalg.det(np.delete(T, 1, 1))\n    C3 = np.linalg.det(np.delete(T, 2, 1))\n    C4 = np.linalg.det(np.delete(T, 3, 1))\n    C = np.array([C1, -C2, C3, -C4])/(-C4)\n \n    C = np.where(np.isclose(C, 0) , 0.0 , C)\n    return C\n ",
      "metadata": {
        "trusted": true
      },
      "outputs": [],
      "execution_count": 1
    },
    {
      "cell_type": "markdown",
      "source": "### Zadatak 2 - Unutrasnja matrica kamere - K",
      "metadata": {}
    },
    {
      "cell_type": "markdown",
      "source": "Napisati Python 3 funkciju kameraK(T)  koja za datu 3x4 matricu kamere T,  tipa np.array, 3x3 matricu K kalibracije kamere, tipa np.array.\n\n\nulaz i izlaz su  tipa np.array\nmatricu kamere K formatirati tako da K[2,2] = 1 (donje desno polje, tj. pozicija (3,3)).\nukoliko imate netačan rezultat zbog negativnih dijagonalnih vrednosti matrice K (a time i A) pogledajete uputstvo na glavnoj strani. \nkod  np.set_printoptions(precision=5, suppress=True)  ostaviti uključen kako bi izlaz bio formatiran na pravi način. \nKao i ranije: da biste izbegli -0.  izlaz možete koristiti kod  K = np.where(np.isclose(K, 0) , 0 , K),  neposredno pre vracanja rezultata.\nPenalty regime 0,0,20,40,60,80,100 (vidi iznad) znači da unutar jednog pokušaja za prvu grešku gubite 0%, za drugu 0%, za treću 20%...",
      "metadata": {}
    },
    {
      "cell_type": "code",
      "source": "import numpy as np\nfrom numpy import linalg\nimport math\nnp.set_printoptions(precision=5, suppress=True) \n \n # ovde pišete pomocne funkcije\n \ndef kameraK(T):\n \n # vaš kod\n    t0 = np.delete(T, 3, 1) # 1- kolona, 0 - vrsta\n    # ako je det t0 <0 onda T-> -T\n    if np.linalg.det(t0) < 0:\n        T = -T\n        t0 = np.delete(T, 3, 1)\n        \n    t0inverz = np.linalg.inv(t0)\n    \n    # QR dekompozicija t0inverz\n    Q, R = np.linalg.qr(t0inverz)\n\n    if(R[0,0] < 0):\n        R = np.matmul(np.diag([-1, 1, 1]), R)\n        Q = np.matmul(Q, np.diag([-1, 1, 1]))\n    if(R[1,1] < 0):\n        R = np.matmul(np.diag([1, -1, 1]), R)\n        Q = np.matmul(Q, np.diag([1, -1, 1]))\n    if(R[2,2] < 0):\n        R = np.matmul(np.diag([1, 1, -1]), R)\n        Q = np.matmul(Q, np.diag([1, 1, -1]))\n        \n    K = np.linalg.inv(R)\n    K = K / K[2, 2]\n \n    K = np.where(np.isclose(K, 0) , 0.0 , K)\n    return K\n ",
      "metadata": {
        "trusted": true
      },
      "outputs": [],
      "execution_count": 7
    },
    {
      "cell_type": "markdown",
      "source": "#### Test primeri",
      "metadata": {}
    },
    {
      "cell_type": "code",
      "source": "T = np.array([[-2,3,0,7], [-3,0,3,-6], [1,0,0,-2]])\nprint(kameraK(T))",
      "metadata": {
        "trusted": true
      },
      "outputs": [
        {
          "name": "stdout",
          "text": "[[ 3.  0. -2.]\n [ 0.  3. -3.]\n [ 0.  0.  1.]]\n",
          "output_type": "stream"
        }
      ],
      "execution_count": 4
    },
    {
      "cell_type": "code",
      "source": "T=np.array([[5, -1-2*10, 3, 18-3*10], [0,-1, 5, 21], [0, -1, 0,1]])\nprint(kameraK(T))",
      "metadata": {
        "trusted": true
      },
      "outputs": [
        {
          "name": "stdout",
          "text": "[[ 5.  3. 21.]\n [ 0.  5.  1.]\n [ 0.  0.  1.]]\n",
          "output_type": "stream"
        }
      ],
      "execution_count": 5
    },
    {
      "cell_type": "code",
      "source": "T2 = np.array([[-40.76114 , 96.88137  , 5.02608 , 257.87105],\n [-80.7022 , -30.26509 , 64.822  , 433.86004],\n [ -0.02538 , -0.00392 , -0.01387 ,  1.     ]])\nprint(kameraK(T2))",
      "metadata": {
        "trusted": true
      },
      "outputs": [
        {
          "name": "stdout",
          "text": "[[3538.64709  -65.06268  686.74666]\n [   0.      3382.03034 1488.20067]\n [   0.         0.         1.     ]]\n",
          "output_type": "stream"
        }
      ],
      "execution_count": 6
    },
    {
      "cell_type": "markdown",
      "source": "### Zadatak 3 - Spoljasnja  matrica kamere - A",
      "metadata": {}
    },
    {
      "cell_type": "markdown",
      "source": "Napisati Python 3 funkciju kameraA(T)  koja za datu 3x4 matricu kamere T,  tipa np.array, 3x3 matricu A  spoljašnih parametara kamere, tipa np.array.\n\n\nulaz i izlaz su  tipa np.array\nkod  np.set_printoptions(precision=5, suppress=True)  ostaviti uključen kako bi izlaz bio formatiran na pravi način. \nKao i ranije: da biste izbegli -0.  izlaz možete koristiti kod  A = np.where(np.isclose(A, 0) , 0.0 , A)\nUkoliko imate problem sa negativnim dijagonalnim vrednostima matrice K (a time i netačnu matricu A) pročitajte uputstvo (glavna strana).\nUnutar jednog pokušaja za prvu grešku gubite 0%, za drugu 0%, za treću 20%...",
      "metadata": {}
    },
    {
      "cell_type": "code",
      "source": "import numpy as np\nfrom numpy import linalg\nimport math\nnp.set_printoptions(precision=5, suppress=True) \n \n # ovde pišete pomocne funkcije\n \ndef kameraA(T):\n \n # vaš kod\n    t0 = np.delete(T, 3, 1) # 1- kolona, 0 - vrsta\n    if np.linalg.det(t0) < 0:\n        T = -T\n        t0 = np.delete(T, 3, 1)\n        \n    t0inverz = np.linalg.inv(t0)\n    \n    # QR dekompozicija t0inverz\n    Q, R = np.linalg.qr(t0inverz)\n    if(R[0,0] < 0):\n        R = np.matmul(np.diag([-1, 1, 1]), R)\n        Q = np.matmul(Q, np.diag([-1, 1, 1]))\n    if(R[1,1] < 0):\n        R = np.matmul(np.diag([1, -1, 1]), R)\n        Q = np.matmul(Q, np.diag([1, -1, 1]))\n    if(R[2,2] < 0):\n        R = np.matmul(np.diag([1, 1, -1]), R)\n        Q = np.matmul(Q, np.diag([1, 1, -1]))\n    A = Q\n \n    A = np.where(np.isclose(A, 0) , 0.0 , A)\n    return A\n ",
      "metadata": {
        "trusted": true
      },
      "outputs": [],
      "execution_count": 10
    },
    {
      "cell_type": "markdown",
      "source": "#### Test primeri",
      "metadata": {}
    },
    {
      "cell_type": "code",
      "source": "T = np.array([[-2,3,0,7], [-3,0,3,-6], [1,0,0,-2]])\nprint(kameraA(T))",
      "metadata": {
        "trusted": true
      },
      "outputs": [
        {
          "name": "stdout",
          "text": "[[0. 0. 1.]\n [1. 0. 0.]\n [0. 1. 0.]]\n",
          "output_type": "stream"
        }
      ],
      "execution_count": 12
    },
    {
      "cell_type": "code",
      "source": "T=np.array([[5, -1-2*10, 3, 18-3*10], [0,-1, 5, 21], [0, -1, 0,1]])\nprint(kameraA(T))",
      "metadata": {
        "trusted": true
      },
      "outputs": [
        {
          "name": "stdout",
          "text": "[[ 1.  0.  0.]\n [ 0.  0. -1.]\n [ 0.  1.  0.]]\n",
          "output_type": "stream"
        }
      ],
      "execution_count": 13
    },
    {
      "cell_type": "code",
      "source": "T2 = np.array([[-40.76114 , 96.88137  , 5.02608 , 257.87105],\n [-80.7022 , -30.26509 , 64.822  , 433.86004],\n [ -0.02538 , -0.00392 , -0.01387 ,  1.     ]])\nprint(kameraA(T2))",
      "metadata": {
        "trusted": true
      },
      "outputs": [
        {
          "name": "stdout",
          "text": "[[ 0.2339   0.43492  0.86956]\n [-0.95953  0.2475   0.13431]\n [-0.15681 -0.86579  0.47521]]\n",
          "output_type": "stream"
        }
      ],
      "execution_count": 14
    },
    {
      "cell_type": "markdown",
      "source": "### Zadatak 4",
      "metadata": {}
    },
    {
      "cell_type": "markdown",
      "source": "Napisati Python 3 funkciju matricaKamere(pts2D, pts3D)  koja za date nizove odgovarajućih tačaka,  tipa np.array, jednake dužine bar 6, vraća 3x4 matricu kamere T, tipa np.array, koja projektuje tačke pts3D redom u tačke pts2D.\n\n\nulaz su dva niza tačaka, jednake dužine najmanje 6, tipa np.array. Recimo:\npts2D=np.array([[120, 11,44], [15,24,2], ...])\npts3D=np.array([[17, 18,19,1], [150,214,25,5], ...]) \nizlaz je matrica T formata 3x4, normalizovana tako da je T(3,4) = 1\nkod  np.set_printoptions(precision=5, suppress=True)  ostaviti uključen kako bi izlaz bio formatiran na pravi način. \nKao i ranije: da biste izbegli -0.  izlaz možete koristiti kod  T = np.where(np.isclose(T, 0) , 0.0 , T)\nUnutar jednog pokušaja za prvu grešku gubite 0%, za drugu 0%, za treću 20%...",
      "metadata": {}
    },
    {
      "cell_type": "code",
      "source": "import numpy as np\nfrom numpy import linalg\nimport math\n\nnp.set_printoptions(precision=5, suppress=True)\n\n\n# ovde pišete pomocne funkcije\n\ndef sistem(img, org):\n    nula = np.array([0, 0, 0, 0])\n    x1 = np.array(np.concatenate((nula, -img[2]*org, img[1]*org)))\n    x2 = np.array(np.concatenate((img[2]*org, nula, -img[0]*org)))\n    return [x1, x2]\n\ndef matricaA(imgs, origs):\n    A = []\n    for i in range(len(imgs)):\n        img = imgs[i]\n        org = origs[i]\n        A.extend(sistem(img, org))\n    return A\n\ndef matricaKamere(pts2D, pts3D):\n    # vaš kod\n    A = matricaA(pts2D, pts3D)\n    A = np.array(A)\n\n    U, S, V = np.linalg.svd(A)\n    T = V[11]\n    \n    T = T/T[11]\n    \n    T = T.reshape(3, 4)\n    T = np.where(np.isclose(T, 0), 0.0, T)\n    return T",
      "metadata": {
        "trusted": true
      },
      "outputs": [],
      "execution_count": 24
    },
    {
      "cell_type": "markdown",
      "source": "#### Test primeri",
      "metadata": {}
    },
    {
      "cell_type": "markdown",
      "source": "#### Test primeri",
      "metadata": {}
    },
    {
      "cell_type": "code",
      "source": "pts2D = np.array([[12, 61, 31], [1, 95, 4], [20, 82, 19], [56, 50, 55], [32, 65, 84], [46, 39, 16], [67, 63, 78]])\npts3D = np.array([[44, 61, 31, 99], [17, 84, 40, 45], [20, 59, 65, 3], [37, 81, 70, 82], [7, 95, 8, 29], [31, 61, 91, 37], [82, 99, 80, 7]])\nprint(matricaKamere(pts2D,pts3D))",
      "metadata": {
        "trusted": true
      },
      "outputs": [
        {
          "name": "stdout",
          "text": "[[-4.95933 -0.2536   1.79307  1.09047]\n [-6.93112  0.0049   3.79892 -0.21861]\n [-5.88155 -0.39931  2.34601  1.     ]]\n",
          "output_type": "stream"
        }
      ],
      "execution_count": 25
    },
    {
      "cell_type": "code",
      "source": "pts2D = np.array([[12, 61, 31], [1, 95, 4], [20, 82, 19], [56, 50, 55], [32, 65, 84], [46, 39, 16], [67, 63, 78]])\npts3D = np.array([[44, 61, 31, 99], [17, 84, 40, 45], [20, 59, 65, 3], [37, 81, 70, 82], [7, 95, 8, 29], [31, 61, 91, 37], [82, 99, 80, 7]])\nprint(matricaKamere(pts2D,pts3D))",
      "metadata": {
        "trusted": true
      },
      "outputs": [
        {
          "name": "stdout",
          "text": "[[-4.95933 -0.2536   1.79307  1.09047]\n [-6.93112  0.0049   3.79892 -0.21861]\n [-5.88155 -0.39931  2.34601  1.     ]]\n",
          "output_type": "stream"
        }
      ],
      "execution_count": 22
    },
    {
      "cell_type": "code",
      "source": "projs = np.array([[91,284, 1], [179,595, 1], [407,507,1],[310,170,1], [539,147,1], [637,467,1], [191,356,1],[420, 272,1]] )\norigs = np.array([[0,0, 3,1], [0, 3,3,1], [3,3,3,1],[3, 0,3,1], [3, 0,0,1], [3, 3,0,1],[1,1,3,1],[3,1,2,1]] )\nprint(matricaKamere(projs, origs))",
      "metadata": {
        "trusted": true
      },
      "outputs": [
        {
          "name": "stdout",
          "text": "[[ 61.7356   27.33275 -75.21323 313.21916]\n [-40.75192  96.87713   5.01128 257.8699 ]\n [ -0.02536  -0.00392  -0.01392   1.     ]]\n",
          "output_type": "stream"
        }
      ],
      "execution_count": 23
    }
  ]
}