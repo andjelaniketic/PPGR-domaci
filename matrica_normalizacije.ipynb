{
 "cells": [
  {
   "cell_type": "code",
   "execution_count": 4,
   "id": "64d3c4bf",
   "metadata": {},
   "outputs": [],
   "source": [
    "import numpy as np\n",
    "from numpy import linalg\n",
    "import math\n",
    "np.set_printoptions(precision=5, suppress=True)\n",
    "\n",
    "def normMatrix(src_p):\n",
    "    \n",
    "    # teziste sistema tacaka C(x, y)\n",
    "    x = sum([p[0]/p[2] for p in src_p]) / len(src_p)\n",
    "    y = sum([p[1]/p[2] for p in src_p]) / len(src_p)\n",
    "    \n",
    "    # srednje rastojanje\n",
    "    r = 0.0\n",
    "\n",
    "    for i in range(len(src_p)):\n",
    "        # translacija u koordinatni pocetak\n",
    "        tmp1 = float(src_p[i][0]/src_p[i][2]) - x\n",
    "        tmp2 = float(src_p[i][1]/src_p[i][2]) - y\n",
    "\n",
    "        r = r + math.sqrt(tmp1**2 + tmp2**2)\n",
    "\n",
    "    r = r / float(len(src_p))\n",
    "\n",
    "    # skaliranje\n",
    "    S = float(math.sqrt(2)) / r\n",
    "\n",
    "    # vracamo matricu normalizacije \n",
    "    return np.array([[S, 0, -S*x], [0, S, -S*y], [0, 0, 1]])"
   ]
  },
  {
   "cell_type": "code",
   "execution_count": 6,
   "id": "d1f3d06f",
   "metadata": {},
   "outputs": [],
   "source": [
    "def DLT(src_p, dst_p):\n",
    "    x = src_p[0][0]\n",
    "    y = src_p[0][1]\n",
    "    z = src_p[0][2]\n",
    "\n",
    "    u = dst_p[0][0]\n",
    "    v = dst_p[0][1]\n",
    "    w = dst_p[0][2]\n",
    "\n",
    "    A = np.array([\n",
    "        [0, 0, 0, -w*x, -w*y, -w*z, v*x, v*y, v*z],\n",
    "        [w*x, w*y, w*z, 0, 0, 0, -u*x, -u*y, -u*z]\n",
    "    ])\n",
    "\n",
    "    for i in range(1, len(src_p)):\n",
    "        x = src_p[i][0]\n",
    "        y = src_p[i][1]\n",
    "        z = src_p[i][2]\n",
    "\n",
    "        u = dst_p[i][0]\n",
    "        v = dst_p[i][1]\n",
    "        w = dst_p[i][2]\n",
    "\n",
    "        row1 = np.array([0, 0, 0, -w*x, -w*y, -w*z, v*x, v*y, v*z])\n",
    "        row2 = np.array([w*x, w*y, w*z, 0, 0, 0, -u*x, -u*y, -u*z])\n",
    "\n",
    "        A = np.vstack((A, row1))\n",
    "        A = np.vstack((A, row2))\n",
    "\n",
    "    # print(A.shape)\n",
    "    # print(A)\n",
    "\n",
    "    # SVD dekompozicija\n",
    "    U, S, V = np.linalg.svd(A)\n",
    "\n",
    "    P = V[-1].reshape(3,3)\n",
    "    \n",
    "    if(P[2][2] != 1 and P[2][2] != 0):\n",
    "        P = P/P[2][2]\n",
    "    \n",
    "    return P"
   ]
  },
  {
   "cell_type": "code",
   "execution_count": 10,
   "id": "106b40ff",
   "metadata": {},
   "outputs": [],
   "source": [
    "def DLTwithNormalization(src_p, dst_p):\n",
    "\n",
    "    # transformacije\n",
    "    T = normMatrix(src_p)\n",
    "    T_prim = normMatrix(dst_p)\n",
    "\n",
    "    # normalizovane tacke\n",
    "    M_line = T.dot(np.transpose(src_p))\n",
    "    M_prim = T_prim.dot(np.transpose(dst_p))\n",
    "\n",
    "    M_line = np.transpose(M_line)\n",
    "    M_prim = np.transpose(M_prim)\n",
    "\n",
    "    P_line = DLT(M_line, M_prim)\n",
    "\n",
    "    P = (np.linalg.inv(T_prim)).dot(P_line).dot(T)\n",
    "    \n",
    "    if(P[2][2] != 1 and P[2][2] != 0):\n",
    "        P = P/P[2][2]\n",
    "\n",
    "    return P\n",
    "     "
   ]
  },
  {
   "cell_type": "code",
   "execution_count": 11,
   "id": "586d445c",
   "metadata": {},
   "outputs": [
    {
     "name": "stdout",
     "output_type": "stream",
     "text": [
      "[[ 0.99732  0.16288 -0.19592]\n",
      " [ 0.02538  0.96398 -0.52775]\n",
      " [-0.07202 -0.53967  1.     ]]\n"
     ]
    }
   ],
   "source": [
    "trapez = [[- 3, - 1, 1], [3, - 1, 1], [1, 1, 1], [- 1, 1, 1], [1,2,3], [-8,-2,1]] \n",
    "pravougaonik1 = [[- 2, - 1, 1], [2, - 1, 1], [2, 1, 1], [- 2, 1, 1], [2,1,5], [-16,-5,5]]\n",
    "print(DLTwithNormalization(trapez, pravougaonik1))"
   ]
  }
 ],
 "metadata": {
  "kernelspec": {
   "display_name": "Python 3 (ipykernel)",
   "language": "python",
   "name": "python3"
  },
  "language_info": {
   "codemirror_mode": {
    "name": "ipython",
    "version": 3
   },
   "file_extension": ".py",
   "mimetype": "text/x-python",
   "name": "python",
   "nbconvert_exporter": "python",
   "pygments_lexer": "ipython3",
   "version": "3.10.1"
  }
 },
 "nbformat": 4,
 "nbformat_minor": 5
}
