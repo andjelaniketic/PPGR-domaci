{
 "cells": [
  {
   "cell_type": "code",
   "execution_count": 1,
   "id": "8b3ff592",
   "metadata": {},
   "outputs": [],
   "source": [
    "import numpy as np\n",
    "np.set_printoptions(precision=5, suppress=True)\n",
    "\n",
    "def opstiPolozaj(matr):    \n",
    "    A = matr[0]\n",
    "    B = matr[1]\n",
    "    C = matr[2]\n",
    "    D = matr[3]\n",
    "    m1 = [A, B, C]\n",
    "    m2 = [A, B, D]\n",
    "    m3 = [A, C, D]\n",
    "    m4 = [B, C, D]\n",
    "    \n",
    "    # Calculate the determinants\n",
    "    det_m1 = np.linalg.det(m1)\n",
    "    det_m2 = np.linalg.det(m2)\n",
    "    det_m3 = np.linalg.det(m3)\n",
    "    det_m4 = np.linalg.det(m4)\n",
    "\n",
    "    if(det_m1 > 0 and det_m1 < 0.000001):\n",
    "        det_m1 = 0\n",
    "        \n",
    "    if(det_m2 > 0 and det_m2 < 0.000001):\n",
    "        det_m2 = 0\n",
    "    if(det_m3 > 0 and det_m3 < 0.000001):\n",
    "        det_m3 = 0\n",
    "    if(det_m4 > 0 and det_m4 < 0.000001):\n",
    "        det_m4 = 0\n",
    "\n",
    "        \n",
    "        \n",
    "    if det_m1 == 0 or det_m2 == 0 or det_m3 == 0 or det_m4 == 0:\n",
    "        return False\n",
    "    \n",
    "    return True\n",
    "\n",
    "def find_matrix(pts):\n",
    "    matrix = np.array([ # A, B, C\n",
    "        [pts[0][0], pts[1][0], pts[2][0]],\n",
    "        [pts[0][1], pts[1][1], pts[2][1]],\n",
    "        [pts[0][2], pts[1][2], pts[2][2]]\n",
    "    ])\n",
    "\n",
    "    D = np.array([pts[3][0], pts[3][1], pts[3][2]])\n",
    "\n",
    "    # D = alpha*A + beta*B + gamma*C\n",
    "    result = np.linalg.solve(matrix, D)\n",
    "\n",
    "    alpha = result[0]\n",
    "    beta = result[1]\n",
    "    gamma = result[2]\n",
    "\n",
    "    column1= np.array([alpha*pts[0][0], alpha*pts[0][1], alpha*pts[0][2]])\n",
    "    column2= np.array([beta*pts[1][0], beta*pts[1][1], beta*pts[1][2]])\n",
    "    column3= np.array([gamma*pts[2][0], gamma*pts[2][1], gamma*pts[2][2]])\n",
    "\n",
    "    P = np.column_stack([column1, column2, column3])\n",
    "\n",
    "    return P\n",
    " \n",
    "def naivni(origs, imgs):\n",
    " \n",
    " # vaš kod\n",
    " \n",
    "    if(not opstiPolozaj(origs)):\n",
    "        return \"Losi originali!\"\n",
    "\n",
    "    if(not opstiPolozaj(imgs)):\n",
    "        return \"Lose slike!\"\n",
    "    \n",
    "    P1 = find_matrix(origs)\n",
    "    P2 = find_matrix(imgs)\n",
    "\n",
    "    # P = P2*inv(P1)\n",
    "    P = np.dot(P2, np.linalg.inv(P1))\n",
    "    \n",
    "    for i in range(3):\n",
    "        for j in range(3):\n",
    "            if(P[i][j] < 0 and P[i][j] > -0.000001):\n",
    "                P[i][j] = 0\n",
    "                \n",
    "    if(P[2][2] != 1 and P[2][2] != 0):\n",
    "        P = P/P[2][2]\n",
    "        \n",
    "    return P"
   ]
  },
  {
   "cell_type": "code",
   "execution_count": 2,
   "id": "5054f0eb",
   "metadata": {},
   "outputs": [
    {
     "name": "stdout",
     "output_type": "stream",
     "text": [
      "[[ 1.   0.   0. ]\n",
      " [ 0.   1.  -0.5]\n",
      " [ 0.  -0.5  1. ]]\n"
     ]
    }
   ],
   "source": [
    "\t\n",
    "trapez = [[- 3, - 1, 1], [3, - 1, 1], [1, 1, 1], [- 1, 1, 1]]\n",
    "pravougaonik = [[- 2, - 1, 1], [2, - 1, 1], [2, 1, 1], [- 2, 1, 1]]\n",
    "print(naivni(trapez, pravougaonik))"
   ]
  },
  {
   "cell_type": "code",
   "execution_count": 3,
   "id": "70c4d6fb",
   "metadata": {},
   "outputs": [
    {
     "name": "stdout",
     "output_type": "stream",
     "text": [
      "Lose slike!\n"
     ]
    }
   ],
   "source": [
    "origs = [[- 3, - 1, 1], [3, - 1, 1], [1, 1, 1], [- 1, 1, 1]]\n",
    "imgs = [[- 2, - 5, 1], [2, - 5, 1], [2, 1, 1], [6, -3, 3]]   #primetite da nisu u opstem polozaju\n",
    "print(naivni(origs, imgs))"
   ]
  },
  {
   "cell_type": "code",
   "execution_count": 4,
   "id": "23fd6148",
   "metadata": {},
   "outputs": [
    {
     "name": "stdout",
     "output_type": "stream",
     "text": [
      "[[ -0.22485  -1.08182 352.39009]\n",
      " [  0.39702  -0.49459 -88.20882]\n",
      " [ -0.00083  -0.00264   1.     ]]\n"
     ]
    }
   ],
   "source": [
    "print(naivni([[868, 2, 1],[410, 10, 1], [1278, 813, 3], [499, 222, 1]], [[567,934, 1], [394, 110, 1], [535, 777, 1], [169, 694, 1]]))"
   ]
  },
  {
   "cell_type": "code",
   "execution_count": 5,
   "id": "598a9e63",
   "metadata": {},
   "outputs": [
    {
     "name": "stdout",
     "output_type": "stream",
     "text": [
      "Losi originali!\n"
     ]
    }
   ],
   "source": [
    "print(naivni([[799, 381, 609], [13, 669, 501], [820, 516, 435], [1619, 897, 1044]], [[466, 985, 130], [724, 453, 166], [626, 294, 943], [157, 822, 136]]))"
   ]
  },
  {
   "cell_type": "code",
   "execution_count": 6,
   "id": "a6a85bf2",
   "metadata": {},
   "outputs": [
    {
     "data": {
      "text/plain": [
       "True"
      ]
     },
     "execution_count": 6,
     "metadata": {},
     "output_type": "execute_result"
    }
   ],
   "source": [
    "opstiPolozaj([[466, 985, 130], [724, 453, 166], [626, 294, 943], [157, 822, 136]])"
   ]
  },
  {
   "cell_type": "code",
   "execution_count": null,
   "id": "7582eff2",
   "metadata": {},
   "outputs": [],
   "source": [
    "    "
   ]
  },
  {
   "cell_type": "code",
   "execution_count": 7,
   "id": "e09f8e25",
   "metadata": {},
   "outputs": [
    {
     "name": "stdout",
     "output_type": "stream",
     "text": [
      "Lose slike!\n"
     ]
    }
   ],
   "source": [
    "print(naivni([[466, 985, 130], [724, 453, 166], [626, 294, 943], [157, 822, 136]], [[799, 381, 609], [13, 669, 501], [820, 516, 435], [1619, 897, 1044]]))"
   ]
  }
 ],
 "metadata": {
  "kernelspec": {
   "display_name": "Python 3 (ipykernel)",
   "language": "python",
   "name": "python3"
  },
  "language_info": {
   "codemirror_mode": {
    "name": "ipython",
    "version": 3
   },
   "file_extension": ".py",
   "mimetype": "text/x-python",
   "name": "python",
   "nbconvert_exporter": "python",
   "pygments_lexer": "ipython3",
   "version": "3.10.1"
  }
 },
 "nbformat": 4,
 "nbformat_minor": 5
}
