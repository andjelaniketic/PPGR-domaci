{
  "metadata": {
    "kernelspec": {
      "name": "python",
      "display_name": "Python (Pyodide)",
      "language": "python"
    },
    "language_info": {
      "codemirror_mode": {
        "name": "python",
        "version": 3
      },
      "file_extension": ".py",
      "mimetype": "text/x-python",
      "name": "python",
      "nbconvert_exporter": "python",
      "pygments_lexer": "ipython3",
      "version": "3.8"
    }
  },
  "nbformat_minor": 4,
  "nbformat": 4,
  "cells": [
    {
      "cell_type": "code",
      "source": "def vektorski(A, B):\n    AB = [A[1]*B[2] - A[2]*B[1],\n        A[2]*B[0] - A[0]*B[2],\n        A[0]*B[1] - A[1]*B[0]]\n    return AB",
      "metadata": {
        "trusted": true
      },
      "outputs": [],
      "execution_count": 6
    },
    {
      "cell_type": "code",
      "source": "def osmoteme(temena):\n    C1 = temena[0]  + [1]\n    B1 = temena[1] + [1]\n    A1 = temena[2] + [1]\n    D1 = temena[3] + [1]\n    C = temena[4] + [1]\n    B = temena[5] + [1]\n    A = temena[6] + [1]\n   \n    CB = vektorski(C, B)\n    C1B1 = vektorski(C1, B1)\n    P = vektorski(CB, C1B1)\n    \n    B1A1 = vektorski(B1, A1)\n    C1D1 = vektorski(C1, D1)\n    Q = vektorski(B1A1, C1D1)\n    \n    PA = vektorski(P, A)\n    CQ = vektorski(C, Q)\n    D = vektorski(PA, CQ)\n    rez = [int(D[0]/D[2]), int(D[1]/D[2])]\n    return rez",
      "metadata": {
        "trusted": true
      },
      "outputs": [],
      "execution_count": 32
    },
    {
      "cell_type": "code",
      "source": "osmoteme([[32, 70], [195, 144], [195, 538], [30, 307], [251, 40], [454, 78], [455, 337]])",
      "metadata": {
        "trusted": true
      },
      "outputs": [
        {
          "execution_count": 33,
          "output_type": "execute_result",
          "data": {
            "text/plain": "[251, 222]"
          },
          "metadata": {}
        }
      ],
      "execution_count": 33
    }
  ]
}
