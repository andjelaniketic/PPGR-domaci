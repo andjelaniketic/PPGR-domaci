{
  "metadata": {
    "kernelspec": {
      "name": "python",
      "display_name": "Python (Pyodide)",
      "language": "python"
    },
    "language_info": {
      "codemirror_mode": {
        "name": "python",
        "version": 3
      },
      "file_extension": ".py",
      "mimetype": "text/x-python",
      "name": "python",
      "nbconvert_exporter": "python",
      "pygments_lexer": "ipython3",
      "version": "3.8"
    }
  },
  "nbformat_minor": 4,
  "nbformat": 4,
  "cells": [
    {
      "cell_type": "markdown",
      "source": "### PPGR 2. domaci",
      "metadata": {}
    },
    {
      "cell_type": "markdown",
      "source": "## 1. Naivni algoritam",
      "metadata": {}
    },
    {
      "cell_type": "markdown",
      "source": "Napisati Python3 funkciju `naivni(origs, imgs)` koja za dve liste od po 4 tačke vraća matricu projektivnog preslikavanja koje prve četiri tačke preslikava redom u druge četiri.\n\nmatricu preslikavanja normirati tako da element u donjem desnom uglu bude jednak 1.\nmatrica treba da bude tipa `np.array` (zato ostavite kod `import numpy as np`, jer vam ta biblioteka treba)\nukoliko tačke `origs` nisu u opštem položaju vratiti string \"Losi originali!\"\nukoliko tačke `imgs` nisu u opštem položaju vratiti string \"Lose slike!\"\nkoristiti `return`, a ne `print` za vraćanje rezultata\nkod  `np.set_printoptions(precision=5, suppress=True)`  ostaviti uključen kako bi izlaz bio formatiran na pravni način.",
      "metadata": {}
    },
    {
      "cell_type": "code",
      "source": "import numpy as np\nnp.set_printoptions(precision=5, suppress=True)\n \n # ovde pišete pomocne funkcije\ndef nadji_matricu(pts):\n    matrix = np.array([ \n        [pts[0][0], pts[1][0], pts[2][0]],\n        [pts[0][1], pts[1][1], pts[2][1]],\n        [pts[0][2], pts[1][2], pts[2][2]]\n    ])\n\n    D = np.array([pts[3][0], pts[3][1], pts[3][2]])\n\n    result = np.linalg.solve(matrix, D)\n\n    alfa = result[0]\n    beta = result[1]\n    gama = result[2]\n\n    col1= np.array([alfa*pts[0][0], alfa*pts[0][1], alfa*pts[0][2]])\n    col2= np.array([beta*pts[1][0], beta*pts[1][1], beta*pts[1][2]])\n    col3= np.array([gama*pts[2][0], gama*pts[2][1], gama*pts[2][2]])\n\n    P = np.column_stack([col1, col2, col3])\n    \n    return P\n\ndef opsti_polozaj(matrix):    \n    A = matrix[0]\n    B = matrix[1]\n    C = matrix[2]\n    D = matrix[3]\n\n    m1 = [A, B, C]\n    m2 = [A, B, D]\n    m3 = [A, C, D]\n    m4 = [B, C, D]\n    \n# determinante\n    det1 = np.linalg.det(m1)\n    det2 = np.linalg.det(m2)\n    det3 = np.linalg.det(m3)\n    det4 = np.linalg.det(m4)\n\n    if(det1 > 0 and det1 < 0.000001):\n        det1 = 0\n    if(det2 > 0 and det2 < 0.000001):\n        det2 = 0\n    if(det3 > 0 and det3 < 0.000001):\n        det3 = 0\n    if(det4 > 0 and det4 < 0.000001):\n        det4 = 0\n    if det1 == 0 or det2 == 0 or det3 == 0 or det4 == 0:\n        return False\n    return True\n    \ndef naivni(origs, imgs):\n # vaš kod\n    # Provera da li su tacke origs i imgs u opstem polozaju\n    if not opsti_polozaj(origs):\n        return \"Losi originali!\"\n    if not opsti_polozaj(imgs):\n        return \"Lose slike!\"\n        \n    P1 = nadji_matricu(origs)\n    P2 = nadji_matricu(imgs)\n\n    P = np.dot(P2, np.linalg.inv(P1))\n    \n    # negativna nula\n    for i in range(3):\n        for j in range(3):\n            if(P[i][j] < 0 and P[i][j] > -0.000001):\n                P[i][j] = 0\n                \n    if(P[2][2] != 1 and P[2][2] != 0):\n        P = P/P[2][2]\n    \n    return P",
      "metadata": {
        "trusted": true
      },
      "outputs": [],
      "execution_count": 24
    },
    {
      "cell_type": "markdown",
      "source": "### Test primeri",
      "metadata": {}
    },
    {
      "cell_type": "code",
      "source": "trapez = [[- 3, - 1, 1], [3, - 1, 1], [1, 1, 1], [- 1, 1, 1]] \npravougaonik = [[- 2, - 1, 1], [2, - 1, 1], [2, 1, 1], [- 2, 1, 1]]\nprint(naivni(trapez, pravougaonik))",
      "metadata": {
        "trusted": true
      },
      "outputs": [
        {
          "name": "stdout",
          "text": "[[ 1.   0.   0. ]\n [ 0.   1.  -0.5]\n [ 0.  -0.5  1. ]]\n",
          "output_type": "stream"
        }
      ],
      "execution_count": 14
    },
    {
      "cell_type": "code",
      "source": "origs = [[- 3, - 1, 1], [3, - 1, 1], [1, 1, 1], [- 1, 1, 1]] \nimgs = [[- 2, - 5, 1], [2, - 5, 1], [2, 1, 1], [6, -3, 3]]   #primetite da nisu u opstem polozaju\nprint(naivni(origs, imgs))",
      "metadata": {
        "trusted": true
      },
      "outputs": [
        {
          "name": "stdout",
          "text": "Lose slike!\n",
          "output_type": "stream"
        }
      ],
      "execution_count": 5
    },
    {
      "cell_type": "markdown",
      "source": "## 2. DLT Algoritam",
      "metadata": {}
    },
    {
      "cell_type": "markdown",
      "source": "Napisati `Python3` funkciju `DLT(origs, imgs)` koja za dve liste od po `n` tačaka vraća matricu projektivnog preslikavanja koje prvih `n` tačaka približno preslikava redom u drugih `n`. Pri tom se koristi **SVD dekompozicija** matrice za odredjivanje optimalnog resenja.\n\n - matricu preslikavanja normirati tako da element u donjem desnom uglu bude jednak `1`.\n - matrica treba da bude tipa `np.array` (zato ostavite kod `import numpy as np`, jer vam ta biblioteka treba)\n - koristiti `return`, a ne `print` za vraćanje rezultata\n - koristiti `np.linalg.svd(A)`  za singularnu dekompoziciju matrice `A`\n - kod  `np.set_printoptions(precision=5, suppress=True)`  ostaviti uključen kako bi izlaz bio formatiran na pravi način.",
      "metadata": {}
    },
    {
      "cell_type": "code",
      "source": "import numpy as np\nfrom numpy import linalg  #zbog SVD algoritma\nnp.set_printoptions(precision=5, suppress=True)\n \n # ovde pišete pomocne funkcije\n \ndef DLT(origs, imgs):\n # vaš kod\n    x1 = origs[0][0]\n    x2 = origs[0][1]\n    x3 = origs[0][2]\n\n    y1 = imgs[0][0]\n    y2 = imgs[0][1]\n    y3 = imgs[0][2]\n\n    A = np.array([\n        [0, 0, 0, -y3*x1, -y3*x2, -y3*x3, y2*x1, y2*x2, y2*x3],\n        [y3*x1, y3*x2, y3*x3, 0, 0, 0, -y1*x1, -y1*x2, -y1*x3]\n    ])\n\n    for i in range(1, len(origs)):\n        x1 = origs[i][0]\n        x2 = origs[i][1]\n        x3 = origs[i][2]\n\n        y1 = imgs[i][0]\n        y2 = imgs[i][1]\n        y3 = imgs[i][2]\n\n        row1 = np.array([0, 0, 0, -y3*x1, -y3*x2, -y3*x3, y2*x1, y2*x2, y2*x3])\n        row2 = np.array([y3*x1, y3*x2, y3*x3, 0, 0, 0, -y1*x1, -y1*x2, -y1*x3])\n\n        A = np.vstack((A, row1))\n        A = np.vstack((A, row2))\n        \n# SVD dekompozicija\n    U, S, V = np.linalg.svd(A)\n\n    mat = V[-1].reshape(3,3)\n    mat = mat/mat[2,2]\n    return mat",
      "metadata": {
        "trusted": true
      },
      "outputs": [],
      "execution_count": 44
    },
    {
      "cell_type": "markdown",
      "source": "### Test primeri",
      "metadata": {}
    },
    {
      "cell_type": "code",
      "source": "trapez = [[- 3, - 1, 1], [3, - 1, 1], [1, 1, 1], [- 1, 1, 1], [1,2,3], [-8,-2,1]] \npravougaonik1 = [[- 2, - 1, 1], [2, - 1, 1], [2, 1, 1], [- 2, 1, 1], [2,1,5], [-16,-5,5]]\nprint(DLT(trapez, pravougaonik1))\n# ako gledate uradjeni primer, primetite [2,1,4]->[2,1,5], [-16,-5,4]->[-16,-5,5]\n# zato matrica nije ista kao u primeru",
      "metadata": {
        "trusted": true
      },
      "outputs": [
        {
          "name": "stdout",
          "text": "[[ 0.99611  0.16558 -0.19689]\n [ 0.02513  0.96444 -0.52778]\n [-0.07233 -0.53789  1.     ]]\n",
          "output_type": "stream"
        }
      ],
      "execution_count": 27
    },
    {
      "cell_type": "code",
      "source": "ulaz = [[891, 490, 48], [584, 778, 139], [845, 108, 707], [910, 714, 827], [572, 917, 660], [747, 417, 313], [388, 347, 217]]\nizlaz = [[222, 167, 692], [241, 920, 354], [346, 669, 696], [254, 924, 350], [439, 920, 250], [426, 330, 261], [419, 431, 985]]\nprint(DLT(ulaz, izlaz))",
      "metadata": {
        "trusted": true
      },
      "outputs": [
        {
          "name": "stdout",
          "text": "[[ 2.87711 -3.98074 -0.09904]\n [ 5.24734 -8.44782  0.6669 ]\n [ 3.67964 -4.99412  1.     ]]\n",
          "output_type": "stream"
        }
      ],
      "execution_count": 28
    },
    {
      "cell_type": "markdown",
      "source": "## 3. Matrica normalizacije",
      "metadata": {}
    },
    {
      "cell_type": "markdown",
      "source": "Napisati `Python3` funkciju `normMatrix(points)` koja za listu od  `n` tačaka ravni (datim homogenim koordinatama) vraća **3x3 matricu normalizacije** tih tačaka. To je 3x3 matrica (kompozicija translacije i homotetije) tako da kada tačke preslikamo tom matricom, dobijamo tačke čije je težište u koordinatnom početku sa prosečnim rastojanjem `sqrt(2)` od koordinatnog početka. \n\n - matrica treba da bude tipa `np.array` (zato ostavite kod `import numpy as np`, jer vam ta biblioteka treba)\n - koristiti `return`, a ne `print` za vraćanje rezultata\nkod  `np.set_printoptions(precision=5, suppress=True)`  ostaviti uključen kako bi izlaz bio formatiran na pravi način.",
      "metadata": {}
    },
    {
      "cell_type": "code",
      "source": "import numpy as np\nfrom numpy import linalg\nnp.set_printoptions(precision=5, suppress=True)\nimport math\n # ovde pišete pomocne funkcije\n \ndef normMatrix(points):\n \n # vaš kod\n# teziste \n    x = sum([p[0]/p[2] for p in points]) / len(points)\n    y = sum([p[1]/p[2] for p in points]) / len(points)\n    \n# srednje rastojanje\n    r = 0.0\n\n    for i in range(len(points)):\n        # transl. KP\n        t1 = float(points[i][0] / points[i][2]) - x\n        t2 = float(points[i][1] / points[i][2]) - y\n\n        r = r + math.sqrt(t1**2 + t2**2)\n\n    r = r / float(len(points))\n\n# skaliranje\n    S = float(math.sqrt(2)) / r\n\n    mat = np.array([[S, 0, -S*x], [0, S, -S*y], [0, 0, 1]])\n    return mat",
      "metadata": {
        "trusted": true
      },
      "outputs": [],
      "execution_count": 47
    },
    {
      "cell_type": "markdown",
      "source": "### Test primeri",
      "metadata": {}
    },
    {
      "cell_type": "code",
      "source": "trapez = [[- 3, - 1, 1], [3, - 1, 1], [1, 1, 1], [- 1, 1, 1], [1,2,3], [-8,-2,1]] \nprint(normMatrix(trapez))",
      "metadata": {
        "trusted": true
      },
      "outputs": [
        {
          "name": "stdout",
          "text": "[[0.44969 0.      0.5746 ]\n [0.      0.44969 0.09993]\n [0.      0.      1.     ]]\n",
          "output_type": "stream"
        }
      ],
      "execution_count": 37
    },
    {
      "cell_type": "code",
      "source": "pts = [[222, 167, 692], [241, 920, 354], [346, 669, 696], [254, 924, 350], [275, 920, 250], [426, 330, 261], [419, 431, 985]]\nprint(normMatrix(pts))",
      "metadata": {
        "trusted": true
      },
      "outputs": [
        {
          "name": "stdout",
          "text": "[[ 1.1734   0.      -0.90218]\n [ 0.       1.1734  -1.98193]\n [ 0.       0.       1.     ]]\n",
          "output_type": "stream"
        }
      ],
      "execution_count": 38
    },
    {
      "cell_type": "markdown",
      "source": "## 4. DLT Algoritam sa normalizacijom",
      "metadata": {}
    },
    {
      "cell_type": "markdown",
      "source": "Napisati `Python3` funkciju `DLTwithNormalization(origs, imgs)` koja za dve liste od po `n` tačaka vraća matricu projektivnog preslikavanja koje prvih `n` tačaka približno preslikava redom u drugih `n`. Prvo se  vrši normalizacija originala i slika, a zatim na normalizovane tačke  primenjuje običan **DLT algoritam** (prethodni zadaci).\n\n - matricu preslikavanja normirati tako da element u donjem desnom uglu bude jednak `1`.\n - matrica treba da bude tipa `np.array` (zato ostavite kod `import numpy as np`, jer vam ta biblioteka treba)\n - koristiti `return`, a ne `prin`t za vraćanje rezultata\n - kod  `np.set_printoptions(precision=5, suppress=True)`  ostaviti uključen kako bi izlaz bio formatiran na pravni način.",
      "metadata": {}
    },
    {
      "cell_type": "code",
      "source": "import numpy as np\nfrom numpy import linalg  #zbog SVD algoritma\nnp.set_printoptions(precision=5, suppress=True)\nimport math\n # ovde pišete pomocne funkcije, a ima ih puno jer koristite sve do sada\n\ndef normMatrix(points):\n# teziste \n    x = sum([p[0]/p[2] for p in points]) / len(points)\n    y = sum([p[1]/p[2] for p in points]) / len(points)\n    \n# srednje rastojanje\n    r = 0.0\n\n    for i in range(len(points)):\n        # transl. KP\n        t1 = float(points[i][0] / points[i][2]) - x\n        t2 = float(points[i][1] / points[i][2]) - y\n\n        r = r + math.sqrt(t1**2 + t2**2)\n\n    r = r / float(len(points))\n\n# skaliranje\n    S = float(math.sqrt(2)) / r\n\n    mat = np.array([[S, 0, -S*x], [0, S, -S*y], [0, 0, 1]])\n    return mat\n    \ndef DLT(origs, imgs):\n    x1 = origs[0][0]\n    x2 = origs[0][1]\n    x3 = origs[0][2]\n\n    y1 = imgs[0][0]\n    y2 = imgs[0][1]\n    y3 = imgs[0][2]\n\n    A = np.array([\n        [0, 0, 0, -y3*x1, -y3*x2, -y3*x3, y2*x1, y2*x2, y2*x3],\n        [y3*x1, y3*x2, y3*x3, 0, 0, 0, -y1*x1, -y1*x2, -y1*x3]\n    ])\n\n    for i in range(1, len(origs)):\n        x1 = origs[i][0]\n        x2 = origs[i][1]\n        x3 = origs[i][2]\n\n        y1 = imgs[i][0]\n        y2 = imgs[i][1]\n        y3 = imgs[i][2]\n\n        row1 = np.array([0, 0, 0, -y3*x1, -y3*x2, -y3*x3, y2*x1, y2*x2, y2*x3])\n        row2 = np.array([y3*x1, y3*x2, y3*x3, 0, 0, 0, -y1*x1, -y1*x2, -y1*x3])\n\n        A = np.vstack((A, row1))\n        A = np.vstack((A, row2))\n        \n# SVD dekompozicija\n    U, S, V = np.linalg.svd(A)\n\n    mat = V[-1].reshape(3,3)\n    mat = mat/mat[2,2]\n    return mat\n\ndef DLTwithNormalization(origs, imgs):\n \n # vaš kod\n # transformacije\n    T = normMatrix(origs)\n    T_prim = normMatrix(imgs)\n\n    # normalizovane tacke\n    M_line = T.dot(np.transpose(origs))\n    M_prim = T_prim.dot(np.transpose(imgs))\n\n    M_line = np.transpose(M_line)\n    M_prim = np.transpose(M_prim)\n\n    P_line = DLT(M_line, M_prim)\n\n    mat = (np.linalg.inv(T_prim)).dot(P_line).dot(T)\n    \n    if(mat[2][2] != 1 and mat[2][2] != 0):\n        mat = mat/mat[2][2]\n\n    return mat",
      "metadata": {
        "trusted": true
      },
      "outputs": [],
      "execution_count": 55
    },
    {
      "cell_type": "markdown",
      "source": "### Test primeri",
      "metadata": {}
    },
    {
      "cell_type": "code",
      "source": "trapez = [[- 3, - 1, 1], [3, - 1, 1], [1, 1, 1], [- 1, 1, 1], [1,2,3], [-8,-2,1]]\npravougaonik1 = [[- 2, - 1, 1], [2, - 1, 1], [2, 1, 1], [- 2, 1, 1], [2,1,5], [-16,-5,5]]\nprint(DLTwithNormalization(trapez, pravougaonik1))\n# ako gledate uradjeni primer, primetite [2,1,4]->[2,1,5], [-16,-5,4]->[-16,-5,5]\n# zato matrica nije ista kao u primeru\n# stavise matrica se na nekoj decimali razlikuje od one kod DLT algoritma (bez normalizacije)",
      "metadata": {
        "trusted": true
      },
      "outputs": [
        {
          "name": "stdout",
          "text": "[[ 0.99732  0.16288 -0.19592]\n [ 0.02538  0.96398 -0.52775]\n [-0.07202 -0.53967  1.     ]]\n",
          "output_type": "stream"
        }
      ],
      "execution_count": 52
    },
    {
      "cell_type": "code",
      "source": "ulaz = [[891, 490, 48], [584, 778, 139], [845, 108, 707], [910, 714, 827], [572, 917, 660], [747, 417, 313], [388, 347, 217]]\nizlaz = [[222, 167, 692], [241, 920, 354], [346, 669, 696], [254, 924, 350], [92, 920, 250], [426, 330, 261], [419, 431, 985]]\nprint(DLTwithNormalization(ulaz, izlaz))",
      "metadata": {
        "trusted": true
      },
      "outputs": [
        {
          "name": "stdout",
          "text": "[[-1.84908  1.02182 -0.61668]\n [-0.61914  0.56214 -4.18024]\n [-5.69947  3.25908  1.     ]]\n",
          "output_type": "stream"
        }
      ],
      "execution_count": 53
    }
  ]
}